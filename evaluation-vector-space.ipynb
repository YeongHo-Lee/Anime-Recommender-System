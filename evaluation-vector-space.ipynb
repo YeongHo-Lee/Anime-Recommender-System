{
 "cells": [
  {
   "cell_type": "code",
   "execution_count": 1,
   "id": "genetic-director",
   "metadata": {
    "_cell_guid": "b1076dfc-b9ad-4769-8c92-a6c4dae69d19",
    "_uuid": "8f2839f25d086af736a60e9eeb907d3b93b6e0e5",
    "execution": {
     "iopub.execute_input": "2021-06-06T07:15:56.529885Z",
     "iopub.status.busy": "2021-06-06T07:15:56.528954Z",
     "iopub.status.idle": "2021-06-06T07:15:56.531936Z",
     "shell.execute_reply": "2021-06-06T07:15:56.532416Z",
     "shell.execute_reply.started": "2021-06-06T05:48:06.51028Z"
    },
    "papermill": {
     "duration": 0.030199,
     "end_time": "2021-06-06T07:15:56.532714",
     "exception": false,
     "start_time": "2021-06-06T07:15:56.502515",
     "status": "completed"
    },
    "tags": []
   },
   "outputs": [],
   "source": [
    "import numpy as np # linear algebra\n",
    "import pandas as pd # data processing, CSV file I/O (e.g. pd.read_csv)\n",
    "import matplotlib.pyplot as plt"
   ]
  },
  {
   "cell_type": "code",
   "execution_count": 2,
   "id": "strategic-impossible",
   "metadata": {
    "execution": {
     "iopub.execute_input": "2021-06-06T07:15:56.564357Z",
     "iopub.status.busy": "2021-06-06T07:15:56.563263Z",
     "iopub.status.idle": "2021-06-06T07:15:56.566899Z",
     "shell.execute_reply": "2021-06-06T07:15:56.566254Z",
     "shell.execute_reply.started": "2021-06-06T05:48:06.496691Z"
    },
    "papermill": {
     "duration": 0.021787,
     "end_time": "2021-06-06T07:15:56.567048",
     "exception": false,
     "start_time": "2021-06-06T07:15:56.545261",
     "status": "completed"
    },
    "tags": []
   },
   "outputs": [],
   "source": [
    "user = ['10255',\n",
    " '38143',\n",
    " '57684',\n",
    " '64807',\n",
    " '68042',\n",
    " '71931',\n",
    " '107650',\n",
    " '162615',\n",
    " '182280',\n",
    " '189037',\n",
    " '190748',\n",
    " '259790',\n",
    " '276953',\n",
    " '277841',\n",
    " '283786',\n",
    " '291207',\n",
    " '300428',\n",
    " '312302',\n",
    " '328195',\n",
    " '336459']"
   ]
  },
  {
   "cell_type": "code",
   "execution_count": 3,
   "id": "revolutionary-reporter",
   "metadata": {
    "execution": {
     "iopub.execute_input": "2021-06-06T07:15:56.598363Z",
     "iopub.status.busy": "2021-06-06T07:15:56.597346Z",
     "iopub.status.idle": "2021-06-06T07:15:56.600863Z",
     "shell.execute_reply": "2021-06-06T07:15:56.600327Z",
     "shell.execute_reply.started": "2021-06-06T05:48:26.766878Z"
    },
    "papermill": {
     "duration": 0.021604,
     "end_time": "2021-06-06T07:15:56.601000",
     "exception": false,
     "start_time": "2021-06-06T07:15:56.579396",
     "status": "completed"
    },
    "tags": []
   },
   "outputs": [],
   "source": [
    "r2 = [0.21428607271394795,\n",
    " 0.26595614046084837,\n",
    " 0.0,\n",
    " 0.19405883031935345,\n",
    " -0.06422783354219663,\n",
    " 0.13592907672440735,\n",
    " 0.31482178398163063,\n",
    " 1.0,\n",
    " 0.1725398086085762,\n",
    " 0.006588434315157987,\n",
    " 0.10766929932546165,\n",
    " 0.15381019447419952,\n",
    " 0.13770672491680558,\n",
    " 0.18234381796415555,\n",
    " 0.2314128217766962,\n",
    " 0.2203203894456316,\n",
    " 0.2693771525494618,\n",
    " -0.05740173348436417,\n",
    " 0.3162323032584574,\n",
    " 0.0017317075331938492]"
   ]
  },
  {
   "cell_type": "code",
   "execution_count": 4,
   "id": "korean-cycling",
   "metadata": {
    "execution": {
     "iopub.execute_input": "2021-06-06T07:15:56.632202Z",
     "iopub.status.busy": "2021-06-06T07:15:56.631190Z",
     "iopub.status.idle": "2021-06-06T07:15:56.634626Z",
     "shell.execute_reply": "2021-06-06T07:15:56.634096Z",
     "shell.execute_reply.started": "2021-06-06T05:48:30.904372Z"
    },
    "papermill": {
     "duration": 0.021555,
     "end_time": "2021-06-06T07:15:56.634829",
     "exception": false,
     "start_time": "2021-06-06T07:15:56.613274",
     "status": "completed"
    },
    "tags": []
   },
   "outputs": [],
   "source": [
    "mse = [3.3888084288052376,\n",
    " 1.7901915913200723,\n",
    " 0.0005431336405529951,\n",
    " 4.02263037037037,\n",
    " 5.066492953523238,\n",
    " 2.9821276908923644,\n",
    " 1.8987172606568832,\n",
    " 0.0,\n",
    " 4.01781453362256,\n",
    " 0.08769529359031825,\n",
    " 2.91296714158504,\n",
    " 4.663230094637224,\n",
    " 1.9763211240310075,\n",
    " 1.026596433990895,\n",
    " 0.5295006690684508,\n",
    " 2.6607558089807553,\n",
    " 2.2909395081967214,\n",
    " 1.3438631067961164,\n",
    " 1.6982889282550928,\n",
    " 4.4639969093406595]"
   ]
  },
  {
   "cell_type": "code",
   "execution_count": 5,
   "id": "german-steps",
   "metadata": {
    "execution": {
     "iopub.execute_input": "2021-06-06T07:15:56.666195Z",
     "iopub.status.busy": "2021-06-06T07:15:56.665527Z",
     "iopub.status.idle": "2021-06-06T07:15:56.667630Z",
     "shell.execute_reply": "2021-06-06T07:15:56.668211Z",
     "shell.execute_reply.started": "2021-06-06T05:48:32.796233Z"
    },
    "papermill": {
     "duration": 0.021202,
     "end_time": "2021-06-06T07:15:56.668422",
     "exception": false,
     "start_time": "2021-06-06T07:15:56.647220",
     "status": "completed"
    },
    "tags": []
   },
   "outputs": [],
   "source": [
    "rmse = [1.8408716491937285,\n",
    " 1.3379804151481711,\n",
    " 0.02330522775157958,\n",
    " 2.0056496130606587,\n",
    " 2.2508871481092156,\n",
    " 1.7268838093202346,\n",
    " 1.3779394981844753,\n",
    " 0.0,\n",
    " 2.0044486857045154,\n",
    " 0.2961339115844692,\n",
    " 1.7067416739463064,\n",
    " 2.1594513411135763,\n",
    " 1.405816888513937,\n",
    " 1.013210952364262,\n",
    " 0.7276679662239165,\n",
    " 1.6311823346826544,\n",
    " 1.5135849854556305,\n",
    " 1.1592510973883599,\n",
    " 1.3031841497866266,\n",
    " 2.1128172919920596]"
   ]
  },
  {
   "cell_type": "code",
   "execution_count": 6,
   "id": "psychological-falls",
   "metadata": {
    "execution": {
     "iopub.execute_input": "2021-06-06T07:15:56.696480Z",
     "iopub.status.busy": "2021-06-06T07:15:56.695826Z",
     "iopub.status.idle": "2021-06-06T07:15:56.701034Z",
     "shell.execute_reply": "2021-06-06T07:15:56.701628Z"
    },
    "papermill": {
     "duration": 0.021008,
     "end_time": "2021-06-06T07:15:56.701818",
     "exception": false,
     "start_time": "2021-06-06T07:15:56.680810",
     "status": "completed"
    },
    "tags": []
   },
   "outputs": [],
   "source": [
    "mae = [1.4422340425531917,\n",
    " 1.0507142857142857,\n",
    " 0.0018709677419354832,\n",
    " 1.5871666666666666,\n",
    " 1.810394802598701,\n",
    " 1.3745722171113157,\n",
    " 1.0426834381551362,\n",
    " 0.0,\n",
    " 1.6530079537237887,\n",
    " 0.08422232182877633,\n",
    " 1.3711932324131788,\n",
    " 1.7513501577287067,\n",
    " 1.1034496124031008,\n",
    " 0.7881411229135052,\n",
    " 0.5501801338136901,\n",
    " 1.3286671418389164,\n",
    " 1.166672131147541,\n",
    " 0.9883936451897616,\n",
    " 1.0190256864481841,\n",
    " 1.6998695054945057]"
   ]
  },
  {
   "cell_type": "code",
   "execution_count": 7,
   "id": "approved-forest",
   "metadata": {
    "execution": {
     "iopub.execute_input": "2021-06-06T07:15:56.729996Z",
     "iopub.status.busy": "2021-06-06T07:15:56.729334Z",
     "iopub.status.idle": "2021-06-06T07:15:56.739010Z",
     "shell.execute_reply": "2021-06-06T07:15:56.738296Z",
     "shell.execute_reply.started": "2021-06-06T05:57:50.706698Z"
    },
    "papermill": {
     "duration": 0.024939,
     "end_time": "2021-06-06T07:15:56.739160",
     "exception": false,
     "start_time": "2021-06-06T07:15:56.714221",
     "status": "completed"
    },
    "tags": []
   },
   "outputs": [],
   "source": [
    "evaluation = pd.DataFrame({\"MSE\":mse, \"RMSE\":rmse, \"MAE\":mae},index = user)"
   ]
  },
  {
   "cell_type": "code",
   "execution_count": 8,
   "id": "upper-property",
   "metadata": {
    "execution": {
     "iopub.execute_input": "2021-06-06T07:15:56.776547Z",
     "iopub.status.busy": "2021-06-06T07:15:56.775832Z",
     "iopub.status.idle": "2021-06-06T07:15:56.800644Z",
     "shell.execute_reply": "2021-06-06T07:15:56.801138Z",
     "shell.execute_reply.started": "2021-06-06T05:57:52.488488Z"
    },
    "papermill": {
     "duration": 0.049212,
     "end_time": "2021-06-06T07:15:56.801341",
     "exception": false,
     "start_time": "2021-06-06T07:15:56.752129",
     "status": "completed"
    },
    "tags": []
   },
   "outputs": [
    {
     "data": {
      "text/html": [
       "<div>\n",
       "<style scoped>\n",
       "    .dataframe tbody tr th:only-of-type {\n",
       "        vertical-align: middle;\n",
       "    }\n",
       "\n",
       "    .dataframe tbody tr th {\n",
       "        vertical-align: top;\n",
       "    }\n",
       "\n",
       "    .dataframe thead th {\n",
       "        text-align: right;\n",
       "    }\n",
       "</style>\n",
       "<table border=\"1\" class=\"dataframe\">\n",
       "  <thead>\n",
       "    <tr style=\"text-align: right;\">\n",
       "      <th></th>\n",
       "      <th>MSE</th>\n",
       "      <th>RMSE</th>\n",
       "      <th>MAE</th>\n",
       "    </tr>\n",
       "  </thead>\n",
       "  <tbody>\n",
       "    <tr>\n",
       "      <th>10255</th>\n",
       "      <td>3.388808</td>\n",
       "      <td>1.840872</td>\n",
       "      <td>1.442234</td>\n",
       "    </tr>\n",
       "    <tr>\n",
       "      <th>38143</th>\n",
       "      <td>1.790192</td>\n",
       "      <td>1.337980</td>\n",
       "      <td>1.050714</td>\n",
       "    </tr>\n",
       "    <tr>\n",
       "      <th>57684</th>\n",
       "      <td>0.000543</td>\n",
       "      <td>0.023305</td>\n",
       "      <td>0.001871</td>\n",
       "    </tr>\n",
       "    <tr>\n",
       "      <th>64807</th>\n",
       "      <td>4.022630</td>\n",
       "      <td>2.005650</td>\n",
       "      <td>1.587167</td>\n",
       "    </tr>\n",
       "    <tr>\n",
       "      <th>68042</th>\n",
       "      <td>5.066493</td>\n",
       "      <td>2.250887</td>\n",
       "      <td>1.810395</td>\n",
       "    </tr>\n",
       "    <tr>\n",
       "      <th>71931</th>\n",
       "      <td>2.982128</td>\n",
       "      <td>1.726884</td>\n",
       "      <td>1.374572</td>\n",
       "    </tr>\n",
       "    <tr>\n",
       "      <th>107650</th>\n",
       "      <td>1.898717</td>\n",
       "      <td>1.377939</td>\n",
       "      <td>1.042683</td>\n",
       "    </tr>\n",
       "    <tr>\n",
       "      <th>162615</th>\n",
       "      <td>0.000000</td>\n",
       "      <td>0.000000</td>\n",
       "      <td>0.000000</td>\n",
       "    </tr>\n",
       "    <tr>\n",
       "      <th>182280</th>\n",
       "      <td>4.017815</td>\n",
       "      <td>2.004449</td>\n",
       "      <td>1.653008</td>\n",
       "    </tr>\n",
       "    <tr>\n",
       "      <th>189037</th>\n",
       "      <td>0.087695</td>\n",
       "      <td>0.296134</td>\n",
       "      <td>0.084222</td>\n",
       "    </tr>\n",
       "    <tr>\n",
       "      <th>190748</th>\n",
       "      <td>2.912967</td>\n",
       "      <td>1.706742</td>\n",
       "      <td>1.371193</td>\n",
       "    </tr>\n",
       "    <tr>\n",
       "      <th>259790</th>\n",
       "      <td>4.663230</td>\n",
       "      <td>2.159451</td>\n",
       "      <td>1.751350</td>\n",
       "    </tr>\n",
       "    <tr>\n",
       "      <th>276953</th>\n",
       "      <td>1.976321</td>\n",
       "      <td>1.405817</td>\n",
       "      <td>1.103450</td>\n",
       "    </tr>\n",
       "    <tr>\n",
       "      <th>277841</th>\n",
       "      <td>1.026596</td>\n",
       "      <td>1.013211</td>\n",
       "      <td>0.788141</td>\n",
       "    </tr>\n",
       "    <tr>\n",
       "      <th>283786</th>\n",
       "      <td>0.529501</td>\n",
       "      <td>0.727668</td>\n",
       "      <td>0.550180</td>\n",
       "    </tr>\n",
       "    <tr>\n",
       "      <th>291207</th>\n",
       "      <td>2.660756</td>\n",
       "      <td>1.631182</td>\n",
       "      <td>1.328667</td>\n",
       "    </tr>\n",
       "    <tr>\n",
       "      <th>300428</th>\n",
       "      <td>2.290940</td>\n",
       "      <td>1.513585</td>\n",
       "      <td>1.166672</td>\n",
       "    </tr>\n",
       "    <tr>\n",
       "      <th>312302</th>\n",
       "      <td>1.343863</td>\n",
       "      <td>1.159251</td>\n",
       "      <td>0.988394</td>\n",
       "    </tr>\n",
       "    <tr>\n",
       "      <th>328195</th>\n",
       "      <td>1.698289</td>\n",
       "      <td>1.303184</td>\n",
       "      <td>1.019026</td>\n",
       "    </tr>\n",
       "    <tr>\n",
       "      <th>336459</th>\n",
       "      <td>4.463997</td>\n",
       "      <td>2.112817</td>\n",
       "      <td>1.699870</td>\n",
       "    </tr>\n",
       "  </tbody>\n",
       "</table>\n",
       "</div>"
      ],
      "text/plain": [
       "             MSE      RMSE       MAE\n",
       "10255   3.388808  1.840872  1.442234\n",
       "38143   1.790192  1.337980  1.050714\n",
       "57684   0.000543  0.023305  0.001871\n",
       "64807   4.022630  2.005650  1.587167\n",
       "68042   5.066493  2.250887  1.810395\n",
       "71931   2.982128  1.726884  1.374572\n",
       "107650  1.898717  1.377939  1.042683\n",
       "162615  0.000000  0.000000  0.000000\n",
       "182280  4.017815  2.004449  1.653008\n",
       "189037  0.087695  0.296134  0.084222\n",
       "190748  2.912967  1.706742  1.371193\n",
       "259790  4.663230  2.159451  1.751350\n",
       "276953  1.976321  1.405817  1.103450\n",
       "277841  1.026596  1.013211  0.788141\n",
       "283786  0.529501  0.727668  0.550180\n",
       "291207  2.660756  1.631182  1.328667\n",
       "300428  2.290940  1.513585  1.166672\n",
       "312302  1.343863  1.159251  0.988394\n",
       "328195  1.698289  1.303184  1.019026\n",
       "336459  4.463997  2.112817  1.699870"
      ]
     },
     "execution_count": 8,
     "metadata": {},
     "output_type": "execute_result"
    }
   ],
   "source": [
    "evaluation"
   ]
  },
  {
   "cell_type": "markdown",
   "id": "frank-superintendent",
   "metadata": {
    "papermill": {
     "duration": 0.013054,
     "end_time": "2021-06-06T07:15:56.827772",
     "exception": false,
     "start_time": "2021-06-06T07:15:56.814718",
     "status": "completed"
    },
    "tags": []
   },
   "source": [
    "### mean"
   ]
  },
  {
   "cell_type": "code",
   "execution_count": 9,
   "id": "united-conversation",
   "metadata": {
    "execution": {
     "iopub.execute_input": "2021-06-06T07:15:56.858113Z",
     "iopub.status.busy": "2021-06-06T07:15:56.857457Z",
     "iopub.status.idle": "2021-06-06T07:15:56.863067Z",
     "shell.execute_reply": "2021-06-06T07:15:56.863801Z",
     "shell.execute_reply.started": "2021-06-06T05:48:35.172474Z"
    },
    "papermill": {
     "duration": 0.022475,
     "end_time": "2021-06-06T07:15:56.863983",
     "exception": false,
     "start_time": "2021-06-06T07:15:56.841508",
     "status": "completed"
    },
    "tags": []
   },
   "outputs": [
    {
     "name": "stdout",
     "output_type": "stream",
     "text": [
      "2.341074049065178 1.3798504319762188 1.0906904532742445\n"
     ]
    }
   ],
   "source": [
    "print(np.mean(mse),np.mean(rmse),np.mean(mae))"
   ]
  },
  {
   "cell_type": "markdown",
   "id": "minimal-matter",
   "metadata": {
    "papermill": {
     "duration": 0.013201,
     "end_time": "2021-06-06T07:15:56.890565",
     "exception": false,
     "start_time": "2021-06-06T07:15:56.877364",
     "status": "completed"
    },
    "tags": []
   },
   "source": [
    "### std"
   ]
  },
  {
   "cell_type": "code",
   "execution_count": 10,
   "id": "continuous-aquarium",
   "metadata": {
    "execution": {
     "iopub.execute_input": "2021-06-06T07:15:56.923200Z",
     "iopub.status.busy": "2021-06-06T07:15:56.922460Z",
     "iopub.status.idle": "2021-06-06T07:15:56.926244Z",
     "shell.execute_reply": "2021-06-06T07:15:56.927305Z",
     "shell.execute_reply.started": "2021-06-06T05:48:39.017889Z"
    },
    "papermill": {
     "duration": 0.023123,
     "end_time": "2021-06-06T07:15:56.927629",
     "exception": false,
     "start_time": "2021-06-06T07:15:56.904506",
     "status": "completed"
    },
    "tags": []
   },
   "outputs": [
    {
     "name": "stdout",
     "output_type": "stream",
     "text": [
      "1.5490731661103858 0.6611254301872075 0.5488606003990814\n"
     ]
    }
   ],
   "source": [
    "print(np.std(mse),np.std(rmse),np.std(mae))"
   ]
  },
  {
   "cell_type": "code",
   "execution_count": 11,
   "id": "traditional-advocate",
   "metadata": {
    "execution": {
     "iopub.execute_input": "2021-06-06T07:15:56.959356Z",
     "iopub.status.busy": "2021-06-06T07:15:56.958607Z",
     "iopub.status.idle": "2021-06-06T07:15:57.232490Z",
     "shell.execute_reply": "2021-06-06T07:15:57.231944Z",
     "shell.execute_reply.started": "2021-06-06T05:51:48.94076Z"
    },
    "papermill": {
     "duration": 0.290259,
     "end_time": "2021-06-06T07:15:57.232643",
     "exception": false,
     "start_time": "2021-06-06T07:15:56.942384",
     "status": "completed"
    },
    "tags": []
   },
   "outputs": [
    {
     "data": {
      "text/plain": [
       "Text(0.5, 0, 'Users')"
      ]
     },
     "execution_count": 11,
     "metadata": {},
     "output_type": "execute_result"
    },
    {
     "data": {
      "image/png": "[encoded data removed]",
      "text/plain": [
       "<Figure size 432x288 with 1 Axes>"
      ]
     },
     "metadata": {
      "needs_background": "light"
     },
     "output_type": "display_data"
    }
   ],
   "source": [
    "plt.bar(list(range(1,21)),mse)\n",
    "plt.xticks(list(range(1,21)))\n",
    "plt.title('MSE')\n",
    "plt.xlabel(\"Users\")"
   ]
  },
  {
   "cell_type": "code",
   "execution_count": 12,
   "id": "centered-folder",
   "metadata": {
    "execution": {
     "iopub.execute_input": "2021-06-06T07:15:57.267859Z",
     "iopub.status.busy": "2021-06-06T07:15:57.267142Z",
     "iopub.status.idle": "2021-06-06T07:15:57.492536Z",
     "shell.execute_reply": "2021-06-06T07:15:57.491902Z",
     "shell.execute_reply.started": "2021-06-06T05:52:26.632995Z"
    },
    "papermill": {
     "duration": 0.245203,
     "end_time": "2021-06-06T07:15:57.492710",
     "exception": false,
     "start_time": "2021-06-06T07:15:57.247507",
     "status": "completed"
    },
    "tags": []
   },
   "outputs": [
    {
     "data": {
      "text/plain": [
       "Text(0.5, 0, 'Users')"
      ]
     },
     "execution_count": 12,
     "metadata": {},
     "output_type": "execute_result"
    },
    {
     "data": {
      "image/png": "[encoded data removed]",
      "text/plain": [
       "<Figure size 432x288 with 1 Axes>"
      ]
     },
     "metadata": {
      "needs_background": "light"
     },
     "output_type": "display_data"
    }
   ],
   "source": [
    "plt.bar(list(range(1,21)),rmse)\n",
    "plt.xticks(list(range(1,21)))\n",
    "plt.title('RMSE')\n",
    "plt.xlabel(\"Users\")"
   ]
  },
  {
   "cell_type": "code",
   "execution_count": 13,
   "id": "emotional-anaheim",
   "metadata": {
    "execution": {
     "iopub.execute_input": "2021-06-06T07:15:57.567734Z",
     "iopub.status.busy": "2021-06-06T07:15:57.566851Z",
     "iopub.status.idle": "2021-06-06T07:15:57.777869Z",
     "shell.execute_reply": "2021-06-06T07:15:57.778386Z",
     "shell.execute_reply.started": "2021-06-06T05:52:32.686261Z"
    },
    "papermill": {
     "duration": 0.270345,
     "end_time": "2021-06-06T07:15:57.778573",
     "exception": false,
     "start_time": "2021-06-06T07:15:57.508228",
     "status": "completed"
    },
    "tags": []
   },
   "outputs": [
    {
     "data": {
      "text/plain": [
       "Text(0.5, 0, 'Users')"
      ]
     },
     "execution_count": 13,
     "metadata": {},
     "output_type": "execute_result"
    },
    {
     "data": {
      "image/png": "[encoded data removed]",
      "text/plain": [
       "<Figure size 432x288 with 1 Axes>"
      ]
     },
     "metadata": {
      "needs_background": "light"
     },
     "output_type": "display_data"
    }
   ],
   "source": [
    "plt.bar(list(range(1,21)),mae)\n",
    "plt.xticks(list(range(1,21)))\n",
    "plt.title('MAE')\n",
    "plt.xlabel(\"Users\")"
   ]
  }
 ],
 "metadata": {
  "kernelspec": {
   "display_name": "Python 3",
   "language": "python",
   "name": "python3"
  },
  "language_info": {
   "codemirror_mode": {
    "name": "ipython",
    "version": 3
   },
   "file_extension": ".py",
   "mimetype": "text/x-python",
   "name": "python",
   "nbconvert_exporter": "python",
   "pygments_lexer": "ipython3",
   "version": "3.7.10"
  },
  "papermill": {
   "default_parameters": {},
   "duration": 11.869988,
   "end_time": "2021-06-06T07:15:58.506258",
   "environment_variables": {},
   "exception": null,
   "input_path": "__notebook__.ipynb",
   "output_path": "__notebook__.ipynb",
   "parameters": {},
   "start_time": "2021-06-06T07:15:46.636270",
   "version": "2.3.3"
  }
 },
 "nbformat": 4,
 "nbformat_minor": 5
}
