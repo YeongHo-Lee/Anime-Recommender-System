{
 "cells": [
  {
   "cell_type": "code",
   "execution_count": 1,
   "id": "structured-drunk",
   "metadata": {
    "_cell_guid": "b1076dfc-b9ad-4769-8c92-a6c4dae69d19",
    "_uuid": "8f2839f25d086af736a60e9eeb907d3b93b6e0e5",
    "execution": {
     "iopub.execute_input": "2021-06-06T08:11:26.377390Z",
     "iopub.status.busy": "2021-06-06T08:11:26.376830Z",
     "iopub.status.idle": "2021-06-06T08:11:27.256095Z",
     "shell.execute_reply": "2021-06-06T08:11:27.254995Z",
     "shell.execute_reply.started": "2021-06-06T07:58:32.830716Z"
    },
    "papermill": {
     "duration": 0.900569,
     "end_time": "2021-06-06T08:11:27.256274",
     "exception": false,
     "start_time": "2021-06-06T08:11:26.355705",
     "status": "completed"
    },
    "tags": []
   },
   "outputs": [],
   "source": [
    "import numpy as np # linear algebra\n",
    "import pandas as pd # data processing, CSV file I/O (e.g. pd.read_csv)\n",
    "import pickle\n",
    "import seaborn as sns\n",
    "import matplotlib.pyplot as plt"
   ]
  },
  {
   "cell_type": "markdown",
   "id": "psychological-calgary",
   "metadata": {
    "papermill": {
     "duration": 0.012259,
     "end_time": "2021-06-06T08:11:27.281229",
     "exception": false,
     "start_time": "2021-06-06T08:11:27.268970",
     "status": "completed"
    },
    "tags": []
   },
   "source": [
    "# XGB Model"
   ]
  },
  {
   "cell_type": "code",
   "execution_count": 2,
   "id": "classical-tackle",
   "metadata": {
    "execution": {
     "iopub.execute_input": "2021-06-06T08:11:27.310201Z",
     "iopub.status.busy": "2021-06-06T08:11:27.309652Z",
     "iopub.status.idle": "2021-06-06T08:11:27.354136Z",
     "shell.execute_reply": "2021-06-06T08:11:27.354568Z",
     "shell.execute_reply.started": "2021-06-06T07:59:04.621627Z"
    },
    "papermill": {
     "duration": 0.061128,
     "end_time": "2021-06-06T08:11:27.354888",
     "exception": false,
     "start_time": "2021-06-06T08:11:27.293760",
     "status": "completed"
    },
    "tags": []
   },
   "outputs": [
    {
     "data": {
      "text/html": [
       "<div>\n",
       "<style scoped>\n",
       "    .dataframe tbody tr th:only-of-type {\n",
       "        vertical-align: middle;\n",
       "    }\n",
       "\n",
       "    .dataframe tbody tr th {\n",
       "        vertical-align: top;\n",
       "    }\n",
       "\n",
       "    .dataframe thead th {\n",
       "        text-align: right;\n",
       "    }\n",
       "</style>\n",
       "<table border=\"1\" class=\"dataframe\">\n",
       "  <thead>\n",
       "    <tr style=\"text-align: right;\">\n",
       "      <th></th>\n",
       "      <th>length</th>\n",
       "      <th>XGB_MAE</th>\n",
       "      <th>XGB_MSE</th>\n",
       "      <th>XGB_RMSE</th>\n",
       "    </tr>\n",
       "  </thead>\n",
       "  <tbody>\n",
       "    <tr>\n",
       "      <th>user_10255</th>\n",
       "      <td>6109</td>\n",
       "      <td>1.218262</td>\n",
       "      <td>2.514099e+00</td>\n",
       "      <td>1.585591</td>\n",
       "    </tr>\n",
       "    <tr>\n",
       "      <th>user_38143</th>\n",
       "      <td>5527</td>\n",
       "      <td>0.873038</td>\n",
       "      <td>1.280136e+00</td>\n",
       "      <td>1.131431</td>\n",
       "    </tr>\n",
       "    <tr>\n",
       "      <th>user_57684</th>\n",
       "      <td>5421</td>\n",
       "      <td>0.003046</td>\n",
       "      <td>8.293454e-03</td>\n",
       "      <td>0.091068</td>\n",
       "    </tr>\n",
       "    <tr>\n",
       "      <th>user_64807</th>\n",
       "      <td>5396</td>\n",
       "      <td>1.339247</td>\n",
       "      <td>2.944366e+00</td>\n",
       "      <td>1.715916</td>\n",
       "    </tr>\n",
       "    <tr>\n",
       "      <th>user_68042</th>\n",
       "      <td>10005</td>\n",
       "      <td>1.705637</td>\n",
       "      <td>4.507289e+00</td>\n",
       "      <td>2.123038</td>\n",
       "    </tr>\n",
       "    <tr>\n",
       "      <th>user_71931</th>\n",
       "      <td>5431</td>\n",
       "      <td>1.054446</td>\n",
       "      <td>1.853261e+00</td>\n",
       "      <td>1.361345</td>\n",
       "    </tr>\n",
       "    <tr>\n",
       "      <th>user_107650</th>\n",
       "      <td>7152</td>\n",
       "      <td>0.911128</td>\n",
       "      <td>1.421802e+00</td>\n",
       "      <td>1.192393</td>\n",
       "    </tr>\n",
       "    <tr>\n",
       "      <th>user_162615</th>\n",
       "      <td>10902</td>\n",
       "      <td>0.000281</td>\n",
       "      <td>7.914878e-08</td>\n",
       "      <td>0.000281</td>\n",
       "    </tr>\n",
       "    <tr>\n",
       "      <th>user_182280</th>\n",
       "      <td>6915</td>\n",
       "      <td>1.327478</td>\n",
       "      <td>2.788452e+00</td>\n",
       "      <td>1.669866</td>\n",
       "    </tr>\n",
       "    <tr>\n",
       "      <th>user_189037</th>\n",
       "      <td>11155</td>\n",
       "      <td>0.057191</td>\n",
       "      <td>6.588139e-02</td>\n",
       "      <td>0.256674</td>\n",
       "    </tr>\n",
       "    <tr>\n",
       "      <th>user_190748</th>\n",
       "      <td>5615</td>\n",
       "      <td>1.269020</td>\n",
       "      <td>2.618745e+00</td>\n",
       "      <td>1.618254</td>\n",
       "    </tr>\n",
       "    <tr>\n",
       "      <th>user_259790</th>\n",
       "      <td>7924</td>\n",
       "      <td>1.431093</td>\n",
       "      <td>3.166680e+00</td>\n",
       "      <td>1.779517</td>\n",
       "    </tr>\n",
       "    <tr>\n",
       "      <th>user_276953</th>\n",
       "      <td>5157</td>\n",
       "      <td>0.888344</td>\n",
       "      <td>1.343068e+00</td>\n",
       "      <td>1.158908</td>\n",
       "    </tr>\n",
       "    <tr>\n",
       "      <th>user_277841</th>\n",
       "      <td>6590</td>\n",
       "      <td>0.629446</td>\n",
       "      <td>6.771535e-01</td>\n",
       "      <td>0.822893</td>\n",
       "    </tr>\n",
       "    <tr>\n",
       "      <th>user_283786</th>\n",
       "      <td>9712</td>\n",
       "      <td>0.505253</td>\n",
       "      <td>4.402641e-01</td>\n",
       "      <td>0.663524</td>\n",
       "    </tr>\n",
       "    <tr>\n",
       "      <th>user_291207</th>\n",
       "      <td>7011</td>\n",
       "      <td>1.025980</td>\n",
       "      <td>1.653657e+00</td>\n",
       "      <td>1.285946</td>\n",
       "    </tr>\n",
       "    <tr>\n",
       "      <th>user_300428</th>\n",
       "      <td>6098</td>\n",
       "      <td>0.830548</td>\n",
       "      <td>1.130589e+00</td>\n",
       "      <td>1.063292</td>\n",
       "    </tr>\n",
       "    <tr>\n",
       "      <th>user_312302</th>\n",
       "      <td>5665</td>\n",
       "      <td>1.014906</td>\n",
       "      <td>1.311763e+00</td>\n",
       "      <td>1.145322</td>\n",
       "    </tr>\n",
       "    <tr>\n",
       "      <th>user_328195</th>\n",
       "      <td>5644</td>\n",
       "      <td>0.795597</td>\n",
       "      <td>1.156030e+00</td>\n",
       "      <td>1.075188</td>\n",
       "    </tr>\n",
       "    <tr>\n",
       "      <th>user_336459</th>\n",
       "      <td>7276</td>\n",
       "      <td>1.513498</td>\n",
       "      <td>3.661521e+00</td>\n",
       "      <td>1.913510</td>\n",
       "    </tr>\n",
       "  </tbody>\n",
       "</table>\n",
       "</div>"
      ],
      "text/plain": [
       "             length   XGB_MAE       XGB_MSE  XGB_RMSE\n",
       "user_10255     6109  1.218262  2.514099e+00  1.585591\n",
       "user_38143     5527  0.873038  1.280136e+00  1.131431\n",
       "user_57684     5421  0.003046  8.293454e-03  0.091068\n",
       "user_64807     5396  1.339247  2.944366e+00  1.715916\n",
       "user_68042    10005  1.705637  4.507289e+00  2.123038\n",
       "user_71931     5431  1.054446  1.853261e+00  1.361345\n",
       "user_107650    7152  0.911128  1.421802e+00  1.192393\n",
       "user_162615   10902  0.000281  7.914878e-08  0.000281\n",
       "user_182280    6915  1.327478  2.788452e+00  1.669866\n",
       "user_189037   11155  0.057191  6.588139e-02  0.256674\n",
       "user_190748    5615  1.269020  2.618745e+00  1.618254\n",
       "user_259790    7924  1.431093  3.166680e+00  1.779517\n",
       "user_276953    5157  0.888344  1.343068e+00  1.158908\n",
       "user_277841    6590  0.629446  6.771535e-01  0.822893\n",
       "user_283786    9712  0.505253  4.402641e-01  0.663524\n",
       "user_291207    7011  1.025980  1.653657e+00  1.285946\n",
       "user_300428    6098  0.830548  1.130589e+00  1.063292\n",
       "user_312302    5665  1.014906  1.311763e+00  1.145322\n",
       "user_328195    5644  0.795597  1.156030e+00  1.075188\n",
       "user_336459    7276  1.513498  3.661521e+00  1.913510"
      ]
     },
     "execution_count": 2,
     "metadata": {},
     "output_type": "execute_result"
    }
   ],
   "source": [
    "with open('../input/anime-data-modeling-xgb/xgb_result.pickle', 'rb') as f:\n",
    "    xgb_result_df = pickle.load(f)\n",
    "xgb_result_df"
   ]
  },
  {
   "cell_type": "markdown",
   "id": "negative-projection",
   "metadata": {
    "papermill": {
     "duration": 0.017955,
     "end_time": "2021-06-06T08:11:27.389985",
     "exception": false,
     "start_time": "2021-06-06T08:11:27.372030",
     "status": "completed"
    },
    "tags": []
   },
   "source": [
    "# Vector Space Model"
   ]
  },
  {
   "cell_type": "code",
   "execution_count": 3,
   "id": "continuing-saying",
   "metadata": {
    "execution": {
     "iopub.execute_input": "2021-06-06T08:11:27.431848Z",
     "iopub.status.busy": "2021-06-06T08:11:27.431236Z",
     "iopub.status.idle": "2021-06-06T08:11:27.432969Z",
     "shell.execute_reply": "2021-06-06T08:11:27.433396Z",
     "shell.execute_reply.started": "2021-06-06T08:02:09.838133Z"
    },
    "papermill": {
     "duration": 0.024863,
     "end_time": "2021-06-06T08:11:27.433587",
     "exception": false,
     "start_time": "2021-06-06T08:11:27.408724",
     "status": "completed"
    },
    "tags": []
   },
   "outputs": [],
   "source": [
    "mae = [1.4422340425531917,\n",
    " 1.0507142857142857,\n",
    " 0.0018709677419354832,\n",
    " 1.5871666666666666,\n",
    " 1.810394802598701,\n",
    " 1.3745722171113157,\n",
    " 1.0426834381551362,\n",
    " 0.0,\n",
    " 1.6530079537237887,\n",
    " 0.08422232182877633,\n",
    " 1.3711932324131788,\n",
    " 1.7513501577287067,\n",
    " 1.1034496124031008,\n",
    " 0.7881411229135052,\n",
    " 0.5501801338136901,\n",
    " 1.3286671418389164,\n",
    " 1.166672131147541,\n",
    " 0.9883936451897616,\n",
    " 1.0190256864481841,\n",
    " 1.6998695054945057]"
   ]
  },
  {
   "cell_type": "code",
   "execution_count": 4,
   "id": "handled-kelly",
   "metadata": {
    "execution": {
     "iopub.execute_input": "2021-06-06T08:11:27.462979Z",
     "iopub.status.busy": "2021-06-06T08:11:27.462390Z",
     "iopub.status.idle": "2021-06-06T08:11:27.466442Z",
     "shell.execute_reply": "2021-06-06T08:11:27.466924Z",
     "shell.execute_reply.started": "2021-06-06T08:02:10.582525Z"
    },
    "papermill": {
     "duration": 0.020154,
     "end_time": "2021-06-06T08:11:27.467101",
     "exception": false,
     "start_time": "2021-06-06T08:11:27.446947",
     "status": "completed"
    },
    "tags": []
   },
   "outputs": [],
   "source": [
    "mse = [3.3888084288052376,\n",
    " 1.7901915913200723,\n",
    " 0.0005431336405529951,\n",
    " 4.02263037037037,\n",
    " 5.066492953523238,\n",
    " 2.9821276908923644,\n",
    " 1.8987172606568832,\n",
    " 0.0,\n",
    " 4.01781453362256,\n",
    " 0.08769529359031825,\n",
    " 2.91296714158504,\n",
    " 4.663230094637224,\n",
    " 1.9763211240310075,\n",
    " 1.026596433990895,\n",
    " 0.5295006690684508,\n",
    " 2.6607558089807553,\n",
    " 2.2909395081967214,\n",
    " 1.3438631067961164,\n",
    " 1.6982889282550928,\n",
    " 4.4639969093406595]"
   ]
  },
  {
   "cell_type": "code",
   "execution_count": 5,
   "id": "earlier-morning",
   "metadata": {
    "execution": {
     "iopub.execute_input": "2021-06-06T08:11:27.496479Z",
     "iopub.status.busy": "2021-06-06T08:11:27.495946Z",
     "iopub.status.idle": "2021-06-06T08:11:27.500749Z",
     "shell.execute_reply": "2021-06-06T08:11:27.500259Z",
     "shell.execute_reply.started": "2021-06-06T08:02:10.845292Z"
    },
    "papermill": {
     "duration": 0.020316,
     "end_time": "2021-06-06T08:11:27.500887",
     "exception": false,
     "start_time": "2021-06-06T08:11:27.480571",
     "status": "completed"
    },
    "tags": []
   },
   "outputs": [],
   "source": [
    "rmse = [1.8408716491937285,\n",
    " 1.3379804151481711,\n",
    " 0.02330522775157958,\n",
    " 2.0056496130606587,\n",
    " 2.2508871481092156,\n",
    " 1.7268838093202346,\n",
    " 1.3779394981844753,\n",
    " 0.0,\n",
    " 2.0044486857045154,\n",
    " 0.2961339115844692,\n",
    " 1.7067416739463064,\n",
    " 2.1594513411135763,\n",
    " 1.405816888513937,\n",
    " 1.013210952364262,\n",
    " 0.7276679662239165,\n",
    " 1.6311823346826544,\n",
    " 1.5135849854556305,\n",
    " 1.1592510973883599,\n",
    " 1.3031841497866266,\n",
    " 2.1128172919920596]"
   ]
  },
  {
   "cell_type": "code",
   "execution_count": 6,
   "id": "distributed-brooklyn",
   "metadata": {
    "execution": {
     "iopub.execute_input": "2021-06-06T08:11:27.538578Z",
     "iopub.status.busy": "2021-06-06T08:11:27.537997Z",
     "iopub.status.idle": "2021-06-06T08:11:27.540615Z",
     "shell.execute_reply": "2021-06-06T08:11:27.541137Z",
     "shell.execute_reply.started": "2021-06-06T08:02:57.169765Z"
    },
    "papermill": {
     "duration": 0.027143,
     "end_time": "2021-06-06T08:11:27.541291",
     "exception": false,
     "start_time": "2021-06-06T08:11:27.514148",
     "status": "completed"
    },
    "tags": []
   },
   "outputs": [
    {
     "data": {
      "text/html": [
       "<div>\n",
       "<style scoped>\n",
       "    .dataframe tbody tr th:only-of-type {\n",
       "        vertical-align: middle;\n",
       "    }\n",
       "\n",
       "    .dataframe tbody tr th {\n",
       "        vertical-align: top;\n",
       "    }\n",
       "\n",
       "    .dataframe thead th {\n",
       "        text-align: right;\n",
       "    }\n",
       "</style>\n",
       "<table border=\"1\" class=\"dataframe\">\n",
       "  <thead>\n",
       "    <tr style=\"text-align: right;\">\n",
       "      <th></th>\n",
       "      <th>Vector_Space_MAE</th>\n",
       "      <th>Vector_Space_MSE</th>\n",
       "      <th>Vector_Space_RMSE</th>\n",
       "    </tr>\n",
       "  </thead>\n",
       "  <tbody>\n",
       "    <tr>\n",
       "      <th>user_10255</th>\n",
       "      <td>1.442234</td>\n",
       "      <td>3.388808</td>\n",
       "      <td>1.840872</td>\n",
       "    </tr>\n",
       "    <tr>\n",
       "      <th>user_38143</th>\n",
       "      <td>1.050714</td>\n",
       "      <td>1.790192</td>\n",
       "      <td>1.337980</td>\n",
       "    </tr>\n",
       "    <tr>\n",
       "      <th>user_57684</th>\n",
       "      <td>0.001871</td>\n",
       "      <td>0.000543</td>\n",
       "      <td>0.023305</td>\n",
       "    </tr>\n",
       "    <tr>\n",
       "      <th>user_64807</th>\n",
       "      <td>1.587167</td>\n",
       "      <td>4.022630</td>\n",
       "      <td>2.005650</td>\n",
       "    </tr>\n",
       "    <tr>\n",
       "      <th>user_68042</th>\n",
       "      <td>1.810395</td>\n",
       "      <td>5.066493</td>\n",
       "      <td>2.250887</td>\n",
       "    </tr>\n",
       "    <tr>\n",
       "      <th>user_71931</th>\n",
       "      <td>1.374572</td>\n",
       "      <td>2.982128</td>\n",
       "      <td>1.726884</td>\n",
       "    </tr>\n",
       "    <tr>\n",
       "      <th>user_107650</th>\n",
       "      <td>1.042683</td>\n",
       "      <td>1.898717</td>\n",
       "      <td>1.377939</td>\n",
       "    </tr>\n",
       "    <tr>\n",
       "      <th>user_162615</th>\n",
       "      <td>0.000000</td>\n",
       "      <td>0.000000</td>\n",
       "      <td>0.000000</td>\n",
       "    </tr>\n",
       "    <tr>\n",
       "      <th>user_182280</th>\n",
       "      <td>1.653008</td>\n",
       "      <td>4.017815</td>\n",
       "      <td>2.004449</td>\n",
       "    </tr>\n",
       "    <tr>\n",
       "      <th>user_189037</th>\n",
       "      <td>0.084222</td>\n",
       "      <td>0.087695</td>\n",
       "      <td>0.296134</td>\n",
       "    </tr>\n",
       "    <tr>\n",
       "      <th>user_190748</th>\n",
       "      <td>1.371193</td>\n",
       "      <td>2.912967</td>\n",
       "      <td>1.706742</td>\n",
       "    </tr>\n",
       "    <tr>\n",
       "      <th>user_259790</th>\n",
       "      <td>1.751350</td>\n",
       "      <td>4.663230</td>\n",
       "      <td>2.159451</td>\n",
       "    </tr>\n",
       "    <tr>\n",
       "      <th>user_276953</th>\n",
       "      <td>1.103450</td>\n",
       "      <td>1.976321</td>\n",
       "      <td>1.405817</td>\n",
       "    </tr>\n",
       "    <tr>\n",
       "      <th>user_277841</th>\n",
       "      <td>0.788141</td>\n",
       "      <td>1.026596</td>\n",
       "      <td>1.013211</td>\n",
       "    </tr>\n",
       "    <tr>\n",
       "      <th>user_283786</th>\n",
       "      <td>0.550180</td>\n",
       "      <td>0.529501</td>\n",
       "      <td>0.727668</td>\n",
       "    </tr>\n",
       "    <tr>\n",
       "      <th>user_291207</th>\n",
       "      <td>1.328667</td>\n",
       "      <td>2.660756</td>\n",
       "      <td>1.631182</td>\n",
       "    </tr>\n",
       "    <tr>\n",
       "      <th>user_300428</th>\n",
       "      <td>1.166672</td>\n",
       "      <td>2.290940</td>\n",
       "      <td>1.513585</td>\n",
       "    </tr>\n",
       "    <tr>\n",
       "      <th>user_312302</th>\n",
       "      <td>0.988394</td>\n",
       "      <td>1.343863</td>\n",
       "      <td>1.159251</td>\n",
       "    </tr>\n",
       "    <tr>\n",
       "      <th>user_328195</th>\n",
       "      <td>1.019026</td>\n",
       "      <td>1.698289</td>\n",
       "      <td>1.303184</td>\n",
       "    </tr>\n",
       "    <tr>\n",
       "      <th>user_336459</th>\n",
       "      <td>1.699870</td>\n",
       "      <td>4.463997</td>\n",
       "      <td>2.112817</td>\n",
       "    </tr>\n",
       "  </tbody>\n",
       "</table>\n",
       "</div>"
      ],
      "text/plain": [
       "             Vector_Space_MAE  Vector_Space_MSE  Vector_Space_RMSE\n",
       "user_10255           1.442234          3.388808           1.840872\n",
       "user_38143           1.050714          1.790192           1.337980\n",
       "user_57684           0.001871          0.000543           0.023305\n",
       "user_64807           1.587167          4.022630           2.005650\n",
       "user_68042           1.810395          5.066493           2.250887\n",
       "user_71931           1.374572          2.982128           1.726884\n",
       "user_107650          1.042683          1.898717           1.377939\n",
       "user_162615          0.000000          0.000000           0.000000\n",
       "user_182280          1.653008          4.017815           2.004449\n",
       "user_189037          0.084222          0.087695           0.296134\n",
       "user_190748          1.371193          2.912967           1.706742\n",
       "user_259790          1.751350          4.663230           2.159451\n",
       "user_276953          1.103450          1.976321           1.405817\n",
       "user_277841          0.788141          1.026596           1.013211\n",
       "user_283786          0.550180          0.529501           0.727668\n",
       "user_291207          1.328667          2.660756           1.631182\n",
       "user_300428          1.166672          2.290940           1.513585\n",
       "user_312302          0.988394          1.343863           1.159251\n",
       "user_328195          1.019026          1.698289           1.303184\n",
       "user_336459          1.699870          4.463997           2.112817"
      ]
     },
     "execution_count": 6,
     "metadata": {},
     "output_type": "execute_result"
    }
   ],
   "source": [
    "vector_result_df = pd.DataFrame([ x for x in zip(mae, mse,rmse)], columns = ['Vector_Space_MAE','Vector_Space_MSE','Vector_Space_RMSE'], index = xgb_result_df.index)\n",
    "vector_result_df"
   ]
  },
  {
   "cell_type": "code",
   "execution_count": 7,
   "id": "fourth-scope",
   "metadata": {
    "execution": {
     "iopub.execute_input": "2021-06-06T08:11:27.572684Z",
     "iopub.status.busy": "2021-06-06T08:11:27.572119Z",
     "iopub.status.idle": "2021-06-06T08:11:27.574838Z",
     "shell.execute_reply": "2021-06-06T08:11:27.574286Z",
     "shell.execute_reply.started": "2021-06-06T08:02:57.726458Z"
    },
    "papermill": {
     "duration": 0.020548,
     "end_time": "2021-06-06T08:11:27.574972",
     "exception": false,
     "start_time": "2021-06-06T08:11:27.554424",
     "status": "completed"
    },
    "tags": []
   },
   "outputs": [],
   "source": [
    "result_df = pd.concat([xgb_result_df, vector_result_df], axis=1)"
   ]
  },
  {
   "cell_type": "code",
   "execution_count": 8,
   "id": "immediate-elevation",
   "metadata": {
    "execution": {
     "iopub.execute_input": "2021-06-06T08:11:27.604379Z",
     "iopub.status.busy": "2021-06-06T08:11:27.603854Z",
     "iopub.status.idle": "2021-06-06T08:11:27.606774Z",
     "shell.execute_reply": "2021-06-06T08:11:27.607158Z",
     "shell.execute_reply.started": "2021-06-06T08:02:58.309578Z"
    },
    "papermill": {
     "duration": 0.01891,
     "end_time": "2021-06-06T08:11:27.607317",
     "exception": false,
     "start_time": "2021-06-06T08:11:27.588407",
     "status": "completed"
    },
    "tags": []
   },
   "outputs": [],
   "source": [
    "# feature = [c for c in result_df.columns if 'vector_space' in c]\n",
    "# feature"
   ]
  },
  {
   "cell_type": "code",
   "execution_count": 9,
   "id": "executive-residence",
   "metadata": {
    "execution": {
     "iopub.execute_input": "2021-06-06T08:11:27.636707Z",
     "iopub.status.busy": "2021-06-06T08:11:27.636109Z",
     "iopub.status.idle": "2021-06-06T08:11:27.649873Z",
     "shell.execute_reply": "2021-06-06T08:11:27.650234Z",
     "shell.execute_reply.started": "2021-06-06T08:02:58.609490Z"
    },
    "papermill": {
     "duration": 0.029781,
     "end_time": "2021-06-06T08:11:27.650410",
     "exception": false,
     "start_time": "2021-06-06T08:11:27.620629",
     "status": "completed"
    },
    "tags": []
   },
   "outputs": [
    {
     "data": {
      "text/html": [
       "<div>\n",
       "<style scoped>\n",
       "    .dataframe tbody tr th:only-of-type {\n",
       "        vertical-align: middle;\n",
       "    }\n",
       "\n",
       "    .dataframe tbody tr th {\n",
       "        vertical-align: top;\n",
       "    }\n",
       "\n",
       "    .dataframe thead th {\n",
       "        text-align: right;\n",
       "    }\n",
       "</style>\n",
       "<table border=\"1\" class=\"dataframe\">\n",
       "  <thead>\n",
       "    <tr style=\"text-align: right;\">\n",
       "      <th></th>\n",
       "      <th>length</th>\n",
       "      <th>XGB_MAE</th>\n",
       "      <th>XGB_MSE</th>\n",
       "      <th>XGB_RMSE</th>\n",
       "      <th>Vector_Space_MAE</th>\n",
       "      <th>Vector_Space_MSE</th>\n",
       "      <th>Vector_Space_RMSE</th>\n",
       "    </tr>\n",
       "  </thead>\n",
       "  <tbody>\n",
       "    <tr>\n",
       "      <th>user_10255</th>\n",
       "      <td>6109</td>\n",
       "      <td>1.218262</td>\n",
       "      <td>2.514099e+00</td>\n",
       "      <td>1.585591</td>\n",
       "      <td>1.442234</td>\n",
       "      <td>3.388808</td>\n",
       "      <td>1.840872</td>\n",
       "    </tr>\n",
       "    <tr>\n",
       "      <th>user_38143</th>\n",
       "      <td>5527</td>\n",
       "      <td>0.873038</td>\n",
       "      <td>1.280136e+00</td>\n",
       "      <td>1.131431</td>\n",
       "      <td>1.050714</td>\n",
       "      <td>1.790192</td>\n",
       "      <td>1.337980</td>\n",
       "    </tr>\n",
       "    <tr>\n",
       "      <th>user_57684</th>\n",
       "      <td>5421</td>\n",
       "      <td>0.003046</td>\n",
       "      <td>8.293454e-03</td>\n",
       "      <td>0.091068</td>\n",
       "      <td>0.001871</td>\n",
       "      <td>0.000543</td>\n",
       "      <td>0.023305</td>\n",
       "    </tr>\n",
       "    <tr>\n",
       "      <th>user_64807</th>\n",
       "      <td>5396</td>\n",
       "      <td>1.339247</td>\n",
       "      <td>2.944366e+00</td>\n",
       "      <td>1.715916</td>\n",
       "      <td>1.587167</td>\n",
       "      <td>4.022630</td>\n",
       "      <td>2.005650</td>\n",
       "    </tr>\n",
       "    <tr>\n",
       "      <th>user_68042</th>\n",
       "      <td>10005</td>\n",
       "      <td>1.705637</td>\n",
       "      <td>4.507289e+00</td>\n",
       "      <td>2.123038</td>\n",
       "      <td>1.810395</td>\n",
       "      <td>5.066493</td>\n",
       "      <td>2.250887</td>\n",
       "    </tr>\n",
       "    <tr>\n",
       "      <th>user_71931</th>\n",
       "      <td>5431</td>\n",
       "      <td>1.054446</td>\n",
       "      <td>1.853261e+00</td>\n",
       "      <td>1.361345</td>\n",
       "      <td>1.374572</td>\n",
       "      <td>2.982128</td>\n",
       "      <td>1.726884</td>\n",
       "    </tr>\n",
       "    <tr>\n",
       "      <th>user_107650</th>\n",
       "      <td>7152</td>\n",
       "      <td>0.911128</td>\n",
       "      <td>1.421802e+00</td>\n",
       "      <td>1.192393</td>\n",
       "      <td>1.042683</td>\n",
       "      <td>1.898717</td>\n",
       "      <td>1.377939</td>\n",
       "    </tr>\n",
       "    <tr>\n",
       "      <th>user_162615</th>\n",
       "      <td>10902</td>\n",
       "      <td>0.000281</td>\n",
       "      <td>7.914878e-08</td>\n",
       "      <td>0.000281</td>\n",
       "      <td>0.000000</td>\n",
       "      <td>0.000000</td>\n",
       "      <td>0.000000</td>\n",
       "    </tr>\n",
       "    <tr>\n",
       "      <th>user_182280</th>\n",
       "      <td>6915</td>\n",
       "      <td>1.327478</td>\n",
       "      <td>2.788452e+00</td>\n",
       "      <td>1.669866</td>\n",
       "      <td>1.653008</td>\n",
       "      <td>4.017815</td>\n",
       "      <td>2.004449</td>\n",
       "    </tr>\n",
       "    <tr>\n",
       "      <th>user_189037</th>\n",
       "      <td>11155</td>\n",
       "      <td>0.057191</td>\n",
       "      <td>6.588139e-02</td>\n",
       "      <td>0.256674</td>\n",
       "      <td>0.084222</td>\n",
       "      <td>0.087695</td>\n",
       "      <td>0.296134</td>\n",
       "    </tr>\n",
       "    <tr>\n",
       "      <th>user_190748</th>\n",
       "      <td>5615</td>\n",
       "      <td>1.269020</td>\n",
       "      <td>2.618745e+00</td>\n",
       "      <td>1.618254</td>\n",
       "      <td>1.371193</td>\n",
       "      <td>2.912967</td>\n",
       "      <td>1.706742</td>\n",
       "    </tr>\n",
       "    <tr>\n",
       "      <th>user_259790</th>\n",
       "      <td>7924</td>\n",
       "      <td>1.431093</td>\n",
       "      <td>3.166680e+00</td>\n",
       "      <td>1.779517</td>\n",
       "      <td>1.751350</td>\n",
       "      <td>4.663230</td>\n",
       "      <td>2.159451</td>\n",
       "    </tr>\n",
       "    <tr>\n",
       "      <th>user_276953</th>\n",
       "      <td>5157</td>\n",
       "      <td>0.888344</td>\n",
       "      <td>1.343068e+00</td>\n",
       "      <td>1.158908</td>\n",
       "      <td>1.103450</td>\n",
       "      <td>1.976321</td>\n",
       "      <td>1.405817</td>\n",
       "    </tr>\n",
       "    <tr>\n",
       "      <th>user_277841</th>\n",
       "      <td>6590</td>\n",
       "      <td>0.629446</td>\n",
       "      <td>6.771535e-01</td>\n",
       "      <td>0.822893</td>\n",
       "      <td>0.788141</td>\n",
       "      <td>1.026596</td>\n",
       "      <td>1.013211</td>\n",
       "    </tr>\n",
       "    <tr>\n",
       "      <th>user_283786</th>\n",
       "      <td>9712</td>\n",
       "      <td>0.505253</td>\n",
       "      <td>4.402641e-01</td>\n",
       "      <td>0.663524</td>\n",
       "      <td>0.550180</td>\n",
       "      <td>0.529501</td>\n",
       "      <td>0.727668</td>\n",
       "    </tr>\n",
       "    <tr>\n",
       "      <th>user_291207</th>\n",
       "      <td>7011</td>\n",
       "      <td>1.025980</td>\n",
       "      <td>1.653657e+00</td>\n",
       "      <td>1.285946</td>\n",
       "      <td>1.328667</td>\n",
       "      <td>2.660756</td>\n",
       "      <td>1.631182</td>\n",
       "    </tr>\n",
       "    <tr>\n",
       "      <th>user_300428</th>\n",
       "      <td>6098</td>\n",
       "      <td>0.830548</td>\n",
       "      <td>1.130589e+00</td>\n",
       "      <td>1.063292</td>\n",
       "      <td>1.166672</td>\n",
       "      <td>2.290940</td>\n",
       "      <td>1.513585</td>\n",
       "    </tr>\n",
       "    <tr>\n",
       "      <th>user_312302</th>\n",
       "      <td>5665</td>\n",
       "      <td>1.014906</td>\n",
       "      <td>1.311763e+00</td>\n",
       "      <td>1.145322</td>\n",
       "      <td>0.988394</td>\n",
       "      <td>1.343863</td>\n",
       "      <td>1.159251</td>\n",
       "    </tr>\n",
       "    <tr>\n",
       "      <th>user_328195</th>\n",
       "      <td>5644</td>\n",
       "      <td>0.795597</td>\n",
       "      <td>1.156030e+00</td>\n",
       "      <td>1.075188</td>\n",
       "      <td>1.019026</td>\n",
       "      <td>1.698289</td>\n",
       "      <td>1.303184</td>\n",
       "    </tr>\n",
       "    <tr>\n",
       "      <th>user_336459</th>\n",
       "      <td>7276</td>\n",
       "      <td>1.513498</td>\n",
       "      <td>3.661521e+00</td>\n",
       "      <td>1.913510</td>\n",
       "      <td>1.699870</td>\n",
       "      <td>4.463997</td>\n",
       "      <td>2.112817</td>\n",
       "    </tr>\n",
       "  </tbody>\n",
       "</table>\n",
       "</div>"
      ],
      "text/plain": [
       "             length   XGB_MAE       XGB_MSE  XGB_RMSE  Vector_Space_MAE  \\\n",
       "user_10255     6109  1.218262  2.514099e+00  1.585591          1.442234   \n",
       "user_38143     5527  0.873038  1.280136e+00  1.131431          1.050714   \n",
       "user_57684     5421  0.003046  8.293454e-03  0.091068          0.001871   \n",
       "user_64807     5396  1.339247  2.944366e+00  1.715916          1.587167   \n",
       "user_68042    10005  1.705637  4.507289e+00  2.123038          1.810395   \n",
       "user_71931     5431  1.054446  1.853261e+00  1.361345          1.374572   \n",
       "user_107650    7152  0.911128  1.421802e+00  1.192393          1.042683   \n",
       "user_162615   10902  0.000281  7.914878e-08  0.000281          0.000000   \n",
       "user_182280    6915  1.327478  2.788452e+00  1.669866          1.653008   \n",
       "user_189037   11155  0.057191  6.588139e-02  0.256674          0.084222   \n",
       "user_190748    5615  1.269020  2.618745e+00  1.618254          1.371193   \n",
       "user_259790    7924  1.431093  3.166680e+00  1.779517          1.751350   \n",
       "user_276953    5157  0.888344  1.343068e+00  1.158908          1.103450   \n",
       "user_277841    6590  0.629446  6.771535e-01  0.822893          0.788141   \n",
       "user_283786    9712  0.505253  4.402641e-01  0.663524          0.550180   \n",
       "user_291207    7011  1.025980  1.653657e+00  1.285946          1.328667   \n",
       "user_300428    6098  0.830548  1.130589e+00  1.063292          1.166672   \n",
       "user_312302    5665  1.014906  1.311763e+00  1.145322          0.988394   \n",
       "user_328195    5644  0.795597  1.156030e+00  1.075188          1.019026   \n",
       "user_336459    7276  1.513498  3.661521e+00  1.913510          1.699870   \n",
       "\n",
       "             Vector_Space_MSE  Vector_Space_RMSE  \n",
       "user_10255           3.388808           1.840872  \n",
       "user_38143           1.790192           1.337980  \n",
       "user_57684           0.000543           0.023305  \n",
       "user_64807           4.022630           2.005650  \n",
       "user_68042           5.066493           2.250887  \n",
       "user_71931           2.982128           1.726884  \n",
       "user_107650          1.898717           1.377939  \n",
       "user_162615          0.000000           0.000000  \n",
       "user_182280          4.017815           2.004449  \n",
       "user_189037          0.087695           0.296134  \n",
       "user_190748          2.912967           1.706742  \n",
       "user_259790          4.663230           2.159451  \n",
       "user_276953          1.976321           1.405817  \n",
       "user_277841          1.026596           1.013211  \n",
       "user_283786          0.529501           0.727668  \n",
       "user_291207          2.660756           1.631182  \n",
       "user_300428          2.290940           1.513585  \n",
       "user_312302          1.343863           1.159251  \n",
       "user_328195          1.698289           1.303184  \n",
       "user_336459          4.463997           2.112817  "
      ]
     },
     "execution_count": 9,
     "metadata": {},
     "output_type": "execute_result"
    }
   ],
   "source": [
    "result_df"
   ]
  },
  {
   "cell_type": "code",
   "execution_count": 10,
   "id": "killing-amount",
   "metadata": {
    "execution": {
     "iopub.execute_input": "2021-06-06T08:11:27.681244Z",
     "iopub.status.busy": "2021-06-06T08:11:27.680691Z",
     "iopub.status.idle": "2021-06-06T08:11:27.684884Z",
     "shell.execute_reply": "2021-06-06T08:11:27.685293Z",
     "shell.execute_reply.started": "2021-06-06T08:03:00.445858Z"
    },
    "papermill": {
     "duration": 0.021342,
     "end_time": "2021-06-06T08:11:27.685458",
     "exception": false,
     "start_time": "2021-06-06T08:11:27.664116",
     "status": "completed"
    },
    "tags": []
   },
   "outputs": [],
   "source": [
    "dummy = result_df.reset_index()"
   ]
  },
  {
   "cell_type": "code",
   "execution_count": 11,
   "id": "aggregate-manor",
   "metadata": {
    "execution": {
     "iopub.execute_input": "2021-06-06T08:11:27.716699Z",
     "iopub.status.busy": "2021-06-06T08:11:27.716094Z",
     "iopub.status.idle": "2021-06-06T08:11:27.733031Z",
     "shell.execute_reply": "2021-06-06T08:11:27.733459Z",
     "shell.execute_reply.started": "2021-06-06T08:03:00.623236Z"
    },
    "papermill": {
     "duration": 0.033904,
     "end_time": "2021-06-06T08:11:27.733677",
     "exception": false,
     "start_time": "2021-06-06T08:11:27.699773",
     "status": "completed"
    },
    "tags": []
   },
   "outputs": [],
   "source": [
    "temp_RMSE = pd.melt(dummy, id_vars= ['index'], value_vars = ['Vector_Space_RMSE','XGB_RMSE'])\n",
    "temp_MAE = pd.melt(dummy, id_vars= ['index'], value_vars = ['Vector_Space_MAE','XGB_MAE'])\n",
    "temp_MSE = pd.melt(dummy, id_vars= ['index'], value_vars = ['Vector_Space_MSE','XGB_MSE'])"
   ]
  },
  {
   "cell_type": "code",
   "execution_count": 12,
   "id": "powered-palmer",
   "metadata": {
    "execution": {
     "iopub.execute_input": "2021-06-06T08:11:27.779640Z",
     "iopub.status.busy": "2021-06-06T08:11:27.779053Z",
     "iopub.status.idle": "2021-06-06T08:11:28.254793Z",
     "shell.execute_reply": "2021-06-06T08:11:28.254229Z",
     "shell.execute_reply.started": "2021-06-06T08:04:26.180095Z"
    },
    "papermill": {
     "duration": 0.50736,
     "end_time": "2021-06-06T08:11:28.254922",
     "exception": false,
     "start_time": "2021-06-06T08:11:27.747562",
     "status": "completed"
    },
    "tags": []
   },
   "outputs": [
    {
     "data": {
      "image/png": "[encoded data removed]",
      "text/plain": [
       "<Figure size 2160x1080 with 1 Axes>"
      ]
     },
     "metadata": {
      "needs_background": "light"
     },
     "output_type": "display_data"
    }
   ],
   "source": [
    "fig = plt.subplots(figsize=(30, 15))\n",
    "ax = sns.barplot(data=temp_MAE, x='index',\n",
    "                 y='value', palette='Set1', order=xgb_result_df.index ,hue = 'variable')\n",
    "ax.set(xlabel=\"User\", ylabel='MAE' , title= ' MAE')\n",
    "# plt.figure(figsize=(30,10))\n",
    "plt.show()"
   ]
  },
  {
   "cell_type": "code",
   "execution_count": 13,
   "id": "standard-vocabulary",
   "metadata": {
    "execution": {
     "iopub.execute_input": "2021-06-06T08:11:28.288149Z",
     "iopub.status.busy": "2021-06-06T08:11:28.287615Z",
     "iopub.status.idle": "2021-06-06T08:11:28.715534Z",
     "shell.execute_reply": "2021-06-06T08:11:28.714972Z",
     "shell.execute_reply.started": "2021-06-06T08:04:26.712098Z"
    },
    "papermill": {
     "duration": 0.445622,
     "end_time": "2021-06-06T08:11:28.715667",
     "exception": false,
     "start_time": "2021-06-06T08:11:28.270045",
     "status": "completed"
    },
    "tags": []
   },
   "outputs": [
    {
     "data": {
      "image/png": "[encoded data removed]",
      "text/plain": [
       "<Figure size 2160x1080 with 1 Axes>"
      ]
     },
     "metadata": {
      "needs_background": "light"
     },
     "output_type": "display_data"
    }
   ],
   "source": [
    "fig = plt.subplots(figsize=(30, 15))\n",
    "ax = sns.barplot(data=temp_MSE, x='index',\n",
    "                 y='value', palette='Set3', order=xgb_result_df.index ,hue = 'variable')\n",
    "ax.set(xlabel=\"User\", ylabel='MSE', title = 'MSE')\n",
    "# plt.figure(figsize=(30,10))\n",
    "plt.show()"
   ]
  },
  {
   "cell_type": "code",
   "execution_count": 14,
   "id": "distinguished-tenant",
   "metadata": {
    "execution": {
     "iopub.execute_input": "2021-06-06T08:11:28.769285Z",
     "iopub.status.busy": "2021-06-06T08:11:28.765725Z",
     "iopub.status.idle": "2021-06-06T08:11:29.277297Z",
     "shell.execute_reply": "2021-06-06T08:11:29.276733Z",
     "shell.execute_reply.started": "2021-06-06T08:04:04.993901Z"
    },
    "papermill": {
     "duration": 0.545549,
     "end_time": "2021-06-06T08:11:29.277423",
     "exception": false,
     "start_time": "2021-06-06T08:11:28.731874",
     "status": "completed"
    },
    "tags": []
   },
   "outputs": [
    {
     "data": {
      "image/png": "[encoded data removed]",
      "text/plain": [
       "<Figure size 2160x1080 with 1 Axes>"
      ]
     },
     "metadata": {
      "needs_background": "light"
     },
     "output_type": "display_data"
    }
   ],
   "source": [
    "fig = plt.subplots(figsize=(30, 15))\n",
    "ax = sns.barplot(data=temp_RMSE, x='index',\n",
    "                 y='value', palette='Set2', order=xgb_result_df.index ,hue = 'variable')\n",
    "ax.set(xlabel=\"User\", ylabel = 'RMSE', title= 'RMSE')\n",
    "# plt.figure(figsize=(30,10))\n",
    "plt.show()"
   ]
  },
  {
   "cell_type": "code",
   "execution_count": 15,
   "id": "welsh-building",
   "metadata": {
    "execution": {
     "iopub.execute_input": "2021-06-06T08:11:29.329804Z",
     "iopub.status.busy": "2021-06-06T08:11:29.328952Z",
     "iopub.status.idle": "2021-06-06T08:11:29.333606Z",
     "shell.execute_reply": "2021-06-06T08:11:29.333030Z",
     "shell.execute_reply.started": "2021-06-06T08:04:32.592777Z"
    },
    "papermill": {
     "duration": 0.039459,
     "end_time": "2021-06-06T08:11:29.333737",
     "exception": false,
     "start_time": "2021-06-06T08:11:29.294278",
     "status": "completed"
    },
    "tags": []
   },
   "outputs": [
    {
     "data": {
      "text/html": [
       "<div>\n",
       "<style scoped>\n",
       "    .dataframe tbody tr th:only-of-type {\n",
       "        vertical-align: middle;\n",
       "    }\n",
       "\n",
       "    .dataframe tbody tr th {\n",
       "        vertical-align: top;\n",
       "    }\n",
       "\n",
       "    .dataframe thead th {\n",
       "        text-align: right;\n",
       "    }\n",
       "</style>\n",
       "<table border=\"1\" class=\"dataframe\">\n",
       "  <thead>\n",
       "    <tr style=\"text-align: right;\">\n",
       "      <th></th>\n",
       "      <th>length</th>\n",
       "      <th>XGB_MAE</th>\n",
       "      <th>XGB_MSE</th>\n",
       "      <th>XGB_RMSE</th>\n",
       "      <th>Vector_Space_MAE</th>\n",
       "      <th>Vector_Space_MSE</th>\n",
       "      <th>Vector_Space_RMSE</th>\n",
       "    </tr>\n",
       "  </thead>\n",
       "  <tbody>\n",
       "    <tr>\n",
       "      <th>mean</th>\n",
       "      <td>7035.250000</td>\n",
       "      <td>0.919672</td>\n",
       "      <td>1.727153</td>\n",
       "      <td>1.182698</td>\n",
       "      <td>1.090690</td>\n",
       "      <td>2.341074</td>\n",
       "      <td>1.37985</td>\n",
       "    </tr>\n",
       "    <tr>\n",
       "      <th>std</th>\n",
       "      <td>1922.431516</td>\n",
       "      <td>0.488602</td>\n",
       "      <td>1.263617</td>\n",
       "      <td>0.587930</td>\n",
       "      <td>0.563119</td>\n",
       "      <td>1.589316</td>\n",
       "      <td>0.67830</td>\n",
       "    </tr>\n",
       "  </tbody>\n",
       "</table>\n",
       "</div>"
      ],
      "text/plain": [
       "           length   XGB_MAE   XGB_MSE  XGB_RMSE  Vector_Space_MAE  \\\n",
       "mean  7035.250000  0.919672  1.727153  1.182698          1.090690   \n",
       "std   1922.431516  0.488602  1.263617  0.587930          0.563119   \n",
       "\n",
       "      Vector_Space_MSE  Vector_Space_RMSE  \n",
       "mean          2.341074            1.37985  \n",
       "std           1.589316            0.67830  "
      ]
     },
     "execution_count": 15,
     "metadata": {},
     "output_type": "execute_result"
    }
   ],
   "source": [
    "result_df.agg(['mean','std'])"
   ]
  },
  {
   "cell_type": "markdown",
   "id": "processed-thanksgiving",
   "metadata": {
    "papermill": {
     "duration": 0.016719,
     "end_time": "2021-06-06T08:11:29.367469",
     "exception": false,
     "start_time": "2021-06-06T08:11:29.350750",
     "status": "completed"
    },
    "tags": []
   },
   "source": [
    "# 이상치 탐지, user_57684 user_162615"
   ]
  },
  {
   "cell_type": "code",
   "execution_count": 16,
   "id": "classified-needle",
   "metadata": {
    "execution": {
     "iopub.execute_input": "2021-06-06T08:11:29.406903Z",
     "iopub.status.busy": "2021-06-06T08:11:29.406155Z",
     "iopub.status.idle": "2021-06-06T08:11:30.819266Z",
     "shell.execute_reply": "2021-06-06T08:11:30.818803Z",
     "shell.execute_reply.started": "2021-06-06T08:05:59.113311Z"
    },
    "papermill": {
     "duration": 1.434657,
     "end_time": "2021-06-06T08:11:30.819401",
     "exception": false,
     "start_time": "2021-06-06T08:11:29.384744",
     "status": "completed"
    },
    "tags": []
   },
   "outputs": [],
   "source": [
    "with open('../input/anime-data-preprocessing/data.pickle', 'rb') as f:\n",
    "    data = pickle.load(f)\n",
    "real_data = []\n",
    "for i in data[:]:\n",
    "    if len(i) > 5000 : real_data.append(i)"
   ]
  },
  {
   "cell_type": "code",
   "execution_count": 17,
   "id": "rubber-chrome",
   "metadata": {
    "execution": {
     "iopub.execute_input": "2021-06-06T08:11:30.862955Z",
     "iopub.status.busy": "2021-06-06T08:11:30.862086Z",
     "iopub.status.idle": "2021-06-06T08:11:30.870891Z",
     "shell.execute_reply": "2021-06-06T08:11:30.870435Z",
     "shell.execute_reply.started": "2021-06-06T08:10:27.160432Z"
    },
    "papermill": {
     "duration": 0.032431,
     "end_time": "2021-06-06T08:11:30.871020",
     "exception": false,
     "start_time": "2021-06-06T08:11:30.838589",
     "status": "completed"
    },
    "tags": []
   },
   "outputs": [
    {
     "data": {
      "text/html": [
       "<div>\n",
       "<style scoped>\n",
       "    .dataframe tbody tr th:only-of-type {\n",
       "        vertical-align: middle;\n",
       "    }\n",
       "\n",
       "    .dataframe tbody tr th {\n",
       "        vertical-align: top;\n",
       "    }\n",
       "\n",
       "    .dataframe thead th {\n",
       "        text-align: right;\n",
       "    }\n",
       "</style>\n",
       "<table border=\"1\" class=\"dataframe\">\n",
       "  <thead>\n",
       "    <tr style=\"text-align: right;\">\n",
       "      <th></th>\n",
       "      <th>score_by_user_57684</th>\n",
       "    </tr>\n",
       "  </thead>\n",
       "  <tbody>\n",
       "    <tr>\n",
       "      <th>mean</th>\n",
       "      <td>9.999447</td>\n",
       "    </tr>\n",
       "    <tr>\n",
       "      <th>std</th>\n",
       "      <td>0.040746</td>\n",
       "    </tr>\n",
       "  </tbody>\n",
       "</table>\n",
       "</div>"
      ],
      "text/plain": [
       "      score_by_user_57684\n",
       "mean             9.999447\n",
       "std              0.040746"
      ]
     },
     "execution_count": 17,
     "metadata": {},
     "output_type": "execute_result"
    }
   ],
   "source": [
    "real_data[2].iloc[:,-1:].agg(['mean','std'])"
   ]
  },
  {
   "cell_type": "code",
   "execution_count": 18,
   "id": "vulnerable-toolbox",
   "metadata": {
    "execution": {
     "iopub.execute_input": "2021-06-06T08:11:30.915257Z",
     "iopub.status.busy": "2021-06-06T08:11:30.910672Z",
     "iopub.status.idle": "2021-06-06T08:11:30.919050Z",
     "shell.execute_reply": "2021-06-06T08:11:30.918579Z",
     "shell.execute_reply.started": "2021-06-06T08:10:25.016861Z"
    },
    "papermill": {
     "duration": 0.030412,
     "end_time": "2021-06-06T08:11:30.919174",
     "exception": false,
     "start_time": "2021-06-06T08:11:30.888762",
     "status": "completed"
    },
    "tags": []
   },
   "outputs": [
    {
     "data": {
      "text/plain": [
       "score_by_user_57684\n",
       "10.0                   5420\n",
       "7.0                       1\n",
       "dtype: int64"
      ]
     },
     "execution_count": 18,
     "metadata": {},
     "output_type": "execute_result"
    }
   ],
   "source": [
    "real_data[2].iloc[:,-1:].value_counts()"
   ]
  },
  {
   "cell_type": "code",
   "execution_count": 19,
   "id": "copyrighted-scene",
   "metadata": {
    "execution": {
     "iopub.execute_input": "2021-06-06T08:11:30.960014Z",
     "iopub.status.busy": "2021-06-06T08:11:30.959374Z",
     "iopub.status.idle": "2021-06-06T08:11:30.966979Z",
     "shell.execute_reply": "2021-06-06T08:11:30.967358Z",
     "shell.execute_reply.started": "2021-06-06T08:08:44.579435Z"
    },
    "papermill": {
     "duration": 0.030844,
     "end_time": "2021-06-06T08:11:30.967534",
     "exception": false,
     "start_time": "2021-06-06T08:11:30.936690",
     "status": "completed"
    },
    "tags": []
   },
   "outputs": [
    {
     "data": {
      "text/html": [
       "<div>\n",
       "<style scoped>\n",
       "    .dataframe tbody tr th:only-of-type {\n",
       "        vertical-align: middle;\n",
       "    }\n",
       "\n",
       "    .dataframe tbody tr th {\n",
       "        vertical-align: top;\n",
       "    }\n",
       "\n",
       "    .dataframe thead th {\n",
       "        text-align: right;\n",
       "    }\n",
       "</style>\n",
       "<table border=\"1\" class=\"dataframe\">\n",
       "  <thead>\n",
       "    <tr style=\"text-align: right;\">\n",
       "      <th></th>\n",
       "      <th>score_by_user_162615</th>\n",
       "    </tr>\n",
       "  </thead>\n",
       "  <tbody>\n",
       "    <tr>\n",
       "      <th>mean</th>\n",
       "      <td>10.0</td>\n",
       "    </tr>\n",
       "    <tr>\n",
       "      <th>std</th>\n",
       "      <td>0.0</td>\n",
       "    </tr>\n",
       "  </tbody>\n",
       "</table>\n",
       "</div>"
      ],
      "text/plain": [
       "      score_by_user_162615\n",
       "mean                  10.0\n",
       "std                    0.0"
      ]
     },
     "execution_count": 19,
     "metadata": {},
     "output_type": "execute_result"
    }
   ],
   "source": [
    "real_data[7].iloc[:,-1:].agg(['mean','std'])"
   ]
  }
 ],
 "metadata": {
  "kernelspec": {
   "display_name": "Python 3",
   "language": "python",
   "name": "python3"
  },
  "language_info": {
   "codemirror_mode": {
    "name": "ipython",
    "version": 3
   },
   "file_extension": ".py",
   "mimetype": "text/x-python",
   "name": "python",
   "nbconvert_exporter": "python",
   "pygments_lexer": "ipython3",
   "version": "3.7.10"
  },
  "papermill": {
   "default_parameters": {},
   "duration": 12.993935,
   "end_time": "2021-06-06T08:11:31.693750",
   "environment_variables": {},
   "exception": null,
   "input_path": "__notebook__.ipynb",
   "output_path": "__notebook__.ipynb",
   "parameters": {},
   "start_time": "2021-06-06T08:11:18.699815",
   "version": "2.3.3"
  }
 },
 "nbformat": 4,
 "nbformat_minor": 5
}
